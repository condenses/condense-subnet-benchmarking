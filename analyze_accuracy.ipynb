{
 "cells": [
  {
   "cell_type": "code",
   "execution_count": 54,
   "metadata": {},
   "outputs": [],
   "source": [
    "import pandas as pd\n",
    "import json\n",
    "from ast import literal_eval\n",
    "import numpy as np"
   ]
  },
  {
   "cell_type": "code",
   "execution_count": 55,
   "metadata": {},
   "outputs": [],
   "source": [
    "df = pd.read_csv('results/simonjegou/ruler/results.csv')"
   ]
  },
  {
   "cell_type": "code",
   "execution_count": 56,
   "metadata": {},
   "outputs": [],
   "source": [
    "result = literal_eval(df['samples'][0])"
   ]
  },
  {
   "cell_type": "code",
   "execution_count": 57,
   "metadata": {},
   "outputs": [
    {
     "data": {
      "text/plain": [
       "{'context': 'Answer the question based on the given documents. Only give me the answer and do not output any other words.\\n\\nThe following are given documents.\\n\\nDocument 1:\\nIn 1096, Crusaders passing by the siege of Amalfi were joined by Bohemond of Taranto and his nephew Tancred with an army of Italo-Normans. Bohemond was the de facto leader of the Crusade during its passage through Asia Minor. After the successful Siege of Antioch in 1097, Bohemond began carving out an independent principality around that city. Tancred was instrumental in the conquest of Jerusalem and he worked for the expansion of the Crusader kingdom in Transjordan and the region of Galilee.[citation needed]\\n\\nDocument 2:\\nWhen finally Edward the Confessor returned from his father\\'s refuge in 1041, at the invitation of his half-brother Harthacnut, he brought with him a Norman-educated mind. He also brought many Norman counsellors and fighters, some of whom established an English cavalry force. This concept never really took root, but it is a typical example of the attitudes of Edward. He appointed Robert of Jumièges archbishop of Canterbury and made Ralph the Timid earl of Hereford. He invited his brother-in-law Eustace II, Count of Boulogne to his court in 1051, an event which resulted in the greatest of early conflicts between Saxon and Norman and ultimately resulted in the exile of Earl Godwin of Wessex.\\n\\nDocument 3:\\nThe French Wars of Religion in the 16th century and French Revolution in the 18th successively destroyed much of what existed in the way of the architectural and artistic remnant of this Norman creativity. The former, with their violence, caused the wanton destruction of many Norman edifices; the latter, with its assault on religion, caused the purposeful destruction of religious objects of any type, and its destabilisation of society resulted in rampant pillaging.\\n\\nDocument 4:\\nIn the course of the 10th century, the initially destructive incursions of Norse war bands into the rivers of France evolved into more permanent encampments that included local women and personal property. The Duchy of Normandy, which began in 911 as a fiefdom, was established by the treaty of Saint-Clair-sur-Epte between King Charles III of West Francia and the famed Viking ruler Rollo, and was situated in the former Frankish kingdom of Neustria. The treaty offered Rollo and his men the French lands between the river Epte and the Atlantic coast in exchange for their protection against further Viking incursions. The area corresponded to the northern part of present-day Upper Normandy down to the river Seine, but the Duchy would eventually extend west beyond the Seine. The territory was roughly equivalent to the old province of Rouen, and reproduced the Roman administrative structure of Gallia Lugdunensis II (part of the former Gallia Lugdunensis).\\n\\nDocument 5:\\nOne of the first Norman mercenaries to serve as a Byzantine general was Hervé in the 1050s. By then however, there were already Norman mercenaries serving as far away as Trebizond and Georgia. They were based at Malatya and Edessa, under the Byzantine duke of Antioch, Isaac Komnenos. In the 1060s, Robert Crispin led the Normans of Edessa against the Turks. Roussel de Bailleul even tried to carve out an independent state in Asia Minor with support from the local population, but he was stopped by the Byzantine general Alexius Komnenos.\\n\\nDocument 6:\\nSome Normans joined Turkish forces to aid in the destruction of the Armenians vassal-states of Sassoun and Taron in far eastern Anatolia. Later, many took up service with the Armenian state further south in Cilicia and the Taurus Mountains. A Norman named Oursel led a force of \"Franks\" into the upper Euphrates valley in northern Syria. From 1073 to 1074, 8,000 of the 20,000 troops of the Armenian general Philaretus Brachamius were Normans—formerly of Oursel—led by Raimbaud. They even lent their ethnicity to the name of their castle: Afranji, meaning \"Franks.\" The known trade between Amalfi and Antioch and between Bari and Tarsus may be related to the presence of Italo-Normans in those cities while Amalfi and Bari were under Norman rule in Italy.\\n\\nDocument 7:\\nEven before the Norman Conquest of England, the Normans had come into contact with Wales. Edward the Confessor had set up the aforementioned Ralph as earl of Hereford and charged him with defending the Marches and warring with the Welsh. In these original ventures, the Normans failed to make any headway into Wales.\\n\\nDocument 8:\\nThe legendary religious zeal of the Normans was exercised in religious wars long before the First Crusade carved out a Norman principality in Antioch. They were major foreign participants in the Reconquista in Iberia. In 1018, Roger de Tosny travelled to the Iberian Peninsula to carve out a state for himself from Moorish lands, but failed. In 1064, during the War of Barbastro, William of Montreuil led the papal army and took a huge booty.\\n\\nDocument 9:\\nOne of the claimants of the English throne opposing William the Conqueror, Edgar Atheling, eventually fled to Scotland. King Malcolm III of Scotland married Edgar\\'s sister Margaret, and came into opposition to William who had already disputed Scotland\\'s southern borders. William invaded Scotland in 1072, riding as far as Abernethy where he met up with his fleet of ships. Malcolm submitted, paid homage to William and surrendered his son Duncan as a hostage, beginning a series of arguments as to whether the Scottish Crown owed allegiance to the King of England.\\n\\nDocument 10:\\nAt Saint Evroul, a tradition of singing had developed and the choir achieved fame in Normandy. Under the Norman abbot Robert de Grantmesnil, several monks of Saint-Evroul fled to southern Italy, where they were patronised by Robert Guiscard and established a Latin monastery at Sant\\'Eufemia. There they continued the tradition of singing.\\n\\nDocument 11:\\nIn England, the period of Norman architecture immediately succeeds that of the Anglo-Saxon and precedes the Early Gothic. In southern Italy, the Normans incorporated elements of Islamic, Lombard, and Byzantine building techniques into their own, initiating a unique style known as Norman-Arab architecture within the Kingdom of Sicily.\\n\\nDocument 12:\\nNorman architecture typically stands out as a new stage in the architectural history of the regions they subdued. They spread a unique Romanesque idiom to England and Italy, and the encastellation of these regions with keeps in their north French style fundamentally altered the military landscape. Their style was characterised by rounded arches, particularly over windows and doorways, and massive proportions.\\n\\nDocument 13:\\nNormandy was the site of several important developments in the history of classical music in the 11th century. Fécamp Abbey and Saint-Evroul Abbey were centres of musical production and education. At Fécamp, under two Italian abbots, William of Volpiano and John of Ravenna, the system of denoting notes by letters was developed and taught. It is still the most common form of pitch representation in English- and German-speaking countries today. Also at Fécamp, the staff, around which neumes were oriented, was first developed and taught in the 11th century. Under the German abbot Isembard, La Trinité-du-Mont became a centre of musical composition.\\n\\nDocument 14:\\nBefore Rollo\\'s arrival, its populations did not differ from Picardy or the Île-de-France, which were considered \"Frankish\". Earlier Viking settlers had begun arriving in the 880s, but were divided between colonies in the east (Roumois and Pays de Caux) around the low Seine valley and in the west in the Cotentin Peninsula, and were separated by traditional pagii, where the population remained about the same with almost no foreign settlers. Rollo\\'s contingents who raided and ultimately settled Normandy and parts of the Atlantic coast included Danes, Norwegians, Norse–Gaels, Orkney Vikings, possibly Swedes, and Anglo-Danes from the English Danelaw under Norse control.\\n\\nDocument 15:\\nThe further decline of Byzantine state-of-affairs paved the road to a third attack in 1185, when a large Norman army invaded Dyrrachium, owing to the betrayal of high Byzantine officials. Some time later, Dyrrachium—one of the most important naval bases of the Adriatic—fell again to Byzantine hands.\\n\\nDocument 16:\\nA few years after the First Crusade, in 1107, the Normans under the command of Bohemond, Robert\\'s son, landed in Valona and besieged Dyrrachium using the most sophisticated military equipment of the time, but to no avail. Meanwhile, they occupied Petrela, the citadel of Mili at the banks of the river Deabolis, Gllavenica (Ballsh), Kanina and Jericho. This time, the Albanians sided with the Normans, dissatisfied by the heavy taxes the Byzantines had imposed upon them. With their help, the Normans secured the Arbanon passes and opened their way to Dibra. The lack of supplies, disease and Byzantine resistance forced Bohemond to retreat from his campaign and sign a peace treaty with the Byzantines in the city of Deabolis.\\n\\nDocument 17:\\nThe Normans thereafter adopted the growing feudal doctrines of the rest of France, and worked them into a functional hierarchical system in both Normandy and in England. The new Norman rulers were culturally and ethnically distinct from the old French aristocracy, most of whom traced their lineage to Franks of the Carolingian dynasty. Most Norman knights remained poor and land-hungry, and by 1066 Normandy had been exporting fighting horsemen for more than a generation. Many Normans of Italy, France and England eventually served as avid Crusaders under the Italo-Norman prince Bohemund I and the Anglo-Norman king Richard the Lion-Heart.\\n\\nDocument 18:\\nBetween 1402 and 1405, the expedition led by the Norman noble Jean de Bethencourt and the Poitevine Gadifer de la Salle conquered the Canarian islands of Lanzarote, Fuerteventura and El Hierro off the Atlantic coast of Africa. Their troops were gathered in Normandy, Gascony and were later reinforced by Castilian colonists.\\n\\nDocument 19:\\nThe Normans (Norman: Nourmands; French: Normands; Latin: Normanni) were the people who in the 10th and 11th centuries gave their name to Normandy, a region in France. They were descended from Norse (\"Norman\" comes from \"Norseman\") raiders and pirates from Denmark, Iceland and Norway who, under their leader Rollo, agreed to swear fealty to King Charles III of West Francia. Through generations of assimilation and mixing with the native Frankish and Roman-Gaulish populations, their descendants would gradually merge with the Carolingian-based cultures of West Francia. The distinct cultural and ethnic identity of the Normans emerged initially in the first half of the 10th century, and it continued to evolve over the succeeding centuries.\\n\\nDocument 20:\\nThe descendants of Rollo\\'s Vikings and their Frankish wives would replace the Norse religion and Old Norse language with Catholicism (Christianity) and the Gallo-Romance language of the local people, blending their maternal Frankish heritage with Old Norse traditions and customs to synthesize a unique \"Norman\" culture in the north of France. The Norman language was forged by the adoption of the indigenous langue d\\'oïl branch of Romance by a Norse-speaking ruling class, and it developed into the regional language that survives today.\\n\\n',\n",
       " 'condense_context': 'Answer question based on given documents. Only give me answer do not output other words.\\n\\n following are given documents.\\n\\n Document 1:\\n In 1096, Crusaders passing by siege of Amalfi joined by Bohemond of Taranto and his nephew Tancred with army of Italo-Normans. Bohemond was de facto leader of Crusade during passage through Asia Minor. After successful Siege of Antioch in 1097, Bohemond began carving out independent principality around city. Tancred instrumental in conquest of Jerusalem worked for expansion of Crusader kingdom in Transjordan and region of Galilee.[citation needed]\\n\\n Document 2:\\n Edward the Confessor returned from father\\'s refuge in 1041, at invitation of half-brother Harthacnut brought Norman-educated mind. brought many Norman counsellors and fighters some established English cavalry force. concept never took root, but typical example of attitudes of Edward. appointed Robert of Jumièges archbishop of Canterbury made Ralph the Timid earl of Hereford. invited brother-in-law Eustace II, Count of Boulogne to his court in 1051 event resulted in early conflicts between Saxon and Norman resulted in exile of Earl Godwin of Wessex.\\n\\n Document 3:\\n French Wars of Religion in 16th century and French Revolution in 18th destroyed architectural and artistic remnant of Norman creativity. former, with violence, caused wanton destruction of many Norman edifices; latter, with assault on religion, caused purposeful destruction of religious objects, destabilisation of society resulted in rampant pillaging.\\n\\n Document 4:\\n In course 10th century, initially destructive incursions of Norse war bands into rivers of France evolved into permanent encampments included local women and personal property.Duchy of Normandy began in 911 as fiefdom established by treaty of Saint-Clair-sur-Epte between King Charles III of West Francia and Viking ruler Rollo situated in former Frankish kingdom of Neustria treaty offered Rollo men French lands between river Epte and Atlantic coast for protection against Viking incursions. area corresponded to northern part of present-day Upper Normandy down to river Seine Duchy extend west beyond Seine. territory equivalent to old province of Rouen reproduced Roman administrative structure of Gallia Lugdunensis II (part of former Gallia Lugdunensis).\\n\\n Document 5:\\n first Norman mercenaries to serve as Byzantine general was Hervé in 1050s. already Norman mercenaries serving as far away as Trebizond and Georgia based at Malatya and Edessa under Byzantine duke of Antioch, Isaac Komnenos. In 1060s Robert Crispin led Normans of Edessa against Turks. Roussel de Bailleul tried to carve independent state in Asia Minor stopped by Byzantine general Alexius Komnenos.\\n\\n Document 6:\\n Some Normans joined Turkish forces to aid in destruction of Armenians vassal-states of Sassoun and Taron in far eastern Anatolia. Later many took up service with Armenian state further south in Cilicia and Taurus Mountains. Norman Oursel led force of \"Franks\" into upper Euphrates valley in northern Syria. From 1073 to 1074, 8,000 of 20,000 troops of Armenian general Philaretus Brachamius were Normans—formerly of Oursel—led by Raimbaud.lent ethnicity to name of castle: Afranji, meaning \"Franks.\" known trade between Amalfi and Antioch Bari and Tarsus may related to presence of Italo-Normans in cities while Amalfi and Bari under Norman rule in Italy.\\n\\n Document 7:\\n before Norman Conquest of England Normans contact with Wales. Edward the Confessor set up Ralph as earl of Hereford charged him with defending Marches warring with Welsh. original ventures Normans failed to make headway into Wales.\\n\\n Document 8:\\n legendary religious zeal of Normans exercised in religious wars before First Crusade carved Norman principality in Antioch. major foreign participants in Reconquista in Iberia. In 1018, Roger de Tosny travelled to Iberian Peninsula to carve out state for himself from Moorish lands, but failed. In 1064 during War of Barbastro, William of Montreuil led papal army took huge booty.\\n\\n Document 9:\\n claimants English throne opposing William the Conqueror, Edgar Atheling, fled to Scotland. King Malcolm III of Scotland married Edgar\\'s sister Margaret into opposition to William disputed Scotland\\'s southern borders. William invaded Scotland in 1072 riding Abernethy met up with fleet of ships. Malcolm submitted, paid homage to William surrendered son Duncan as a hostage beginning series of arguments to Scottish Crown owed allegiance to King of England.\\n\\n Document 10:\\n At Saint Evroul tradition of singing developed choir achieved fame in Normandy. Under Norman abbot Robert de Grantmesnil monks of Saint-Evroul fled to southern Italy, patronised by Robert Guiscard established Latin monastery at Sant\\'Eufemia. continued tradition of singing.\\n\\n Document 11:\\nIn England period Norman architecture succeeds Anglo-Saxon precedes Early Gothic. In southern Italy Normans incorporated elements Islamic, Lombard Byzantine building techniques into own initiating unique style as Norman-Arab architecture within Kingdom of Sicily.\\n\\n Document 12:\\n Norman architecture stands out as new stage in architectural history of regions they subdued. spread unique Romanesque idiom to England and Italy encastellation regions with keeps in north French style altered military landscape. Their style characterised by rounded arches over windows doorways, massive proportions.\\n\\n Document 13:\\n Normandy site of important developments in history of classical music in 11th century. Fécamp Abbey and Saint-Evroul Abbey were centres of musical production education. At Fécamp under two Italian abbots William of Volpiano and John of Ravenna, system of denoting notes by letters developed and taught. still most common form of pitch representation in English- German-speaking countries today. at Fécamp, staff, around neumes oriented, first developed and taught in 11th century. Under German abbot Isembard, La Trinité-du-Mont became centre of musical composition.\\n\\n Document 14:\\n Before Rollo\\'s arrival populations did not differ from Picardy or Île-de-France, considered \"Frankish\". Earlier Viking settlers begun arriving in 880s divided between colonies in east (Roumois and Pays de Caux) around low Seine valley west in Cotentin Peninsula separated by traditional pagii population remained about same with almost no foreign settlers.Rollo\\'s contingents raided settled Normandy parts Atlantic coast included Danes, Norwegians, Norse–Gaels, Orkney Vikings, possibly Swedes, Anglo-Danes from English Danelaw under Norse control.\\n\\n Document 15:\\n decline of Byzantine state-of-affairs paved road to third attack in 1185, large Norman army invaded Dyrrachium owing to betrayal of high Byzantine officials. later Dyrrachium—one important naval bases of Adriatic—fell again to Byzantine hands.\\n\\n Document 16:\\n few years after First Crusade, in 1107, Normans under command of Bohemond, Robert\\'s son, landed in Valona besieged Dyrrachium using sophisticated military equipment of, but to no avail., occupied Petrela, citadel of Mili at banks of river Deabolis, Gllavenica (Ballsh), Kanina Jericho Albanians sided with Normans, dissatisfied by heavy taxes Byzantines imposed With their help Normans secured Arbanon passes opened way to Dibra. lack of supplies, disease Byzantine resistance forced Bohemond to retreat from campaign sign peace treaty with Byzantines in city of Deabolis.\\n\\n Document 17:\\n Normans adopted growing feudal doctrines of rest of France worked them into functional hierarchical system in Normandy and England new Norman rulers were culturally and ethnically distinct from old French aristocracy most traced lineage to Franks of Carolingian dynasty. Most Norman knights remained poor land-hungry by 1066 Normandy had been exporting fighting horsemen for more than a generation.Normans of Italy, France England served as Crusaders under Italo-Norman prince Bohemund I Anglo-Norman king Richard the Lion-Heart.\\n\\n Document 18:\\n Between 1402 and 1405 expedition led by Norman noble Jean de Bethencourt Poitevine Gadifer de la Salle conquered Canarian islands of Lanzarote Fuerteventura El Hierro off Atlantic coast of Africa. troops gathered in Normandy, Gascony reinforced by Castilian colonists.\\n\\n Document 19:\\n Normans (Norman: Nourmands; French: Normands; Latin: Normanni) were people in 10th and 11th centuries gave name to Normandy, region in France. descended from Norse (\"Norman\" from \"Norseman\") raiders pirates from Denmark, Iceland Norway under leader Rollo swear fealty to King Charles III of West Francia. Through generations of assimilation mixing with native Frankish Roman-Gaulish populations descendants merge with Carolingian-based cultures of West Francia. distinct cultural ethnic identity of Normans emerged in first half of 10th century continued to evolve over succeeding centuries.\\n\\n Document 20:\\n descendants of Rollo\\'s Vikings Frankish wives replace Norse religion Old Norse language with Catholicism (Christianity) Gallo-Romance language of local people blending maternal Frankish heritage with Old Norse traditions customs to synthesize unique \"Norman\" culture in north of France. Norman language forged by adoption of indigenous langue d\\'oïl branch of Romance by Norse-speaking ruling class developed into regional language survives today.\\n\\n',\n",
       " 'question': 'Answer the question based on the given documents. Only give me the answer and do not output any other words.\\n\\nQuestion: In what country is Normandy located? ',\n",
       " 'answers': ['France', 'France', 'France', 'France'],\n",
       " 'condense_rate': 0.7964426877470355,\n",
       " 'miner_uid': -1,\n",
       " 'condensed': {'response': 'France.',\n",
       "  'time': 0.46079516410827637,\n",
       "  'error': None},\n",
       " 'casual': {'response': 'France.', 'time': 0.38567018508911133, 'error': None},\n",
       " 'timestamp': 1738905160.9339669}"
      ]
     },
     "execution_count": 57,
     "metadata": {},
     "output_type": "execute_result"
    }
   ],
   "source": [
    "result[0]"
   ]
  },
  {
   "cell_type": "code",
   "execution_count": 37,
   "metadata": {},
   "outputs": [],
   "source": [
    "with open('results/simonjegou/ruler/4096/accuracies.json', 'r') as f:\n",
    "    accuracies = json.load(f)"
   ]
  },
  {
   "cell_type": "code",
   "execution_count": 43,
   "metadata": {},
   "outputs": [
    {
     "name": "stdout",
     "output_type": "stream",
     "text": [
      "11 False True\n",
      "17 False True\n",
      "22 True False\n",
      "23 True False\n",
      "71 False True\n",
      "75 True False\n",
      "84 True False\n"
     ]
    }
   ],
   "source": [
    "indexes = []\n",
    "for i in range(96):\n",
    "    if accuracies['condensed'][i] != accuracies['casual'][i]:\n",
    "        print(i, accuracies['condensed'][i], accuracies['casual'][i])\n",
    "        indexes.append(i)"
   ]
  },
  {
   "cell_type": "code",
   "execution_count": 48,
   "metadata": {},
   "outputs": [
    {
     "name": "stdout",
     "output_type": "stream",
     "text": [
      "Condense Accuracy 0.9583333333333334\n",
      "Casual Accuracy 0.9479166666666666\n"
     ]
    },
    {
     "data": {
      "text/html": [
       "<div>\n",
       "<style scoped>\n",
       "    .dataframe tbody tr th:only-of-type {\n",
       "        vertical-align: middle;\n",
       "    }\n",
       "\n",
       "    .dataframe tbody tr th {\n",
       "        vertical-align: top;\n",
       "    }\n",
       "\n",
       "    .dataframe thead th {\n",
       "        text-align: right;\n",
       "    }\n",
       "</style>\n",
       "<table border=\"1\" class=\"dataframe\">\n",
       "  <thead>\n",
       "    <tr style=\"text-align: right;\">\n",
       "      <th></th>\n",
       "      <th>index</th>\n",
       "      <th>answer</th>\n",
       "      <th>condensed_response</th>\n",
       "      <th>casual_response</th>\n",
       "      <th>condensed_accuracy</th>\n",
       "      <th>casual_accuracy</th>\n",
       "    </tr>\n",
       "  </thead>\n",
       "  <tbody>\n",
       "    <tr>\n",
       "      <th>0</th>\n",
       "      <td>11</td>\n",
       "      <td>[King Charles III, King Charles III, King Charles III]</td>\n",
       "      <td>Charles the Bald.</td>\n",
       "      <td>King Charles III of West Francia.</td>\n",
       "      <td>False</td>\n",
       "      <td>True</td>\n",
       "    </tr>\n",
       "    <tr>\n",
       "      <th>1</th>\n",
       "      <td>17</td>\n",
       "      <td>[Seljuk Turks, the Pechenegs, the Bulgars, and especially the Seljuk Turks, the Seljuk Turks]</td>\n",
       "      <td>Seljuk Turks, Pechenegs, and Bulgars.</td>\n",
       "      <td>The Seljuk Turks.</td>\n",
       "      <td>False</td>\n",
       "      <td>True</td>\n",
       "    </tr>\n",
       "    <tr>\n",
       "      <th>2</th>\n",
       "      <td>22</td>\n",
       "      <td>[Oursel, Oursel, Oursel]</td>\n",
       "      <td>Oursel.</td>\n",
       "      <td>Raimbaud.</td>\n",
       "      <td>True</td>\n",
       "      <td>False</td>\n",
       "    </tr>\n",
       "    <tr>\n",
       "      <th>3</th>\n",
       "      <td>23</td>\n",
       "      <td>[Turkish forces, Turkish forces, Turkish forces]</td>\n",
       "      <td>Turkish forces.</td>\n",
       "      <td>The Armenians.</td>\n",
       "      <td>True</td>\n",
       "      <td>False</td>\n",
       "    </tr>\n",
       "    <tr>\n",
       "      <th>4</th>\n",
       "      <td>71</td>\n",
       "      <td>[Guy de Lusignan, Guy de Lusignan, Guy de Lusignan]</td>\n",
       "      <td>Richard de Camville and Robert de Thornham.</td>\n",
       "      <td>Guy de Lusignan.</td>\n",
       "      <td>False</td>\n",
       "      <td>True</td>\n",
       "    </tr>\n",
       "    <tr>\n",
       "      <th>5</th>\n",
       "      <td>75</td>\n",
       "      <td>[Maciot de Bethencourt, Maciot de Bethencourt, Maciot de Bethencourt]</td>\n",
       "      <td>Maciot de Bethencourt.</td>\n",
       "      <td>Enrique Pérez de Guzmán, 2nd Count de Niebla.</td>\n",
       "      <td>True</td>\n",
       "      <td>False</td>\n",
       "    </tr>\n",
       "    <tr>\n",
       "      <th>6</th>\n",
       "      <td>84</td>\n",
       "      <td>[dukes, the dukes, dukes]</td>\n",
       "      <td>The early 11th century dukes.</td>\n",
       "      <td>The Normans used the church to unify themselves.</td>\n",
       "      <td>True</td>\n",
       "      <td>False</td>\n",
       "    </tr>\n",
       "  </tbody>\n",
       "</table>\n",
       "</div>"
      ],
      "text/plain": [
       "   index  \\\n",
       "0     11   \n",
       "1     17   \n",
       "2     22   \n",
       "3     23   \n",
       "4     71   \n",
       "5     75   \n",
       "6     84   \n",
       "\n",
       "                                                                                          answer  \\\n",
       "0                                         [King Charles III, King Charles III, King Charles III]   \n",
       "1  [Seljuk Turks, the Pechenegs, the Bulgars, and especially the Seljuk Turks, the Seljuk Turks]   \n",
       "2                                                                       [Oursel, Oursel, Oursel]   \n",
       "3                                               [Turkish forces, Turkish forces, Turkish forces]   \n",
       "4                                            [Guy de Lusignan, Guy de Lusignan, Guy de Lusignan]   \n",
       "5                          [Maciot de Bethencourt, Maciot de Bethencourt, Maciot de Bethencourt]   \n",
       "6                                                                      [dukes, the dukes, dukes]   \n",
       "\n",
       "                            condensed_response  \\\n",
       "0                            Charles the Bald.   \n",
       "1        Seljuk Turks, Pechenegs, and Bulgars.   \n",
       "2                                      Oursel.   \n",
       "3                              Turkish forces.   \n",
       "4  Richard de Camville and Robert de Thornham.   \n",
       "5                       Maciot de Bethencourt.   \n",
       "6                The early 11th century dukes.   \n",
       "\n",
       "                                    casual_response  condensed_accuracy  \\\n",
       "0                 King Charles III of West Francia.               False   \n",
       "1                                 The Seljuk Turks.               False   \n",
       "2                                         Raimbaud.                True   \n",
       "3                                    The Armenians.                True   \n",
       "4                                  Guy de Lusignan.               False   \n",
       "5     Enrique Pérez de Guzmán, 2nd Count de Niebla.                True   \n",
       "6  The Normans used the church to unify themselves.                True   \n",
       "\n",
       "   casual_accuracy  \n",
       "0             True  \n",
       "1             True  \n",
       "2            False  \n",
       "3            False  \n",
       "4             True  \n",
       "5            False  \n",
       "6            False  "
      ]
     },
     "execution_count": 48,
     "metadata": {},
     "output_type": "execute_result"
    }
   ],
   "source": [
    "answers = []\n",
    "condense_resp, condense_eval = [], []\n",
    "casual_resp, casual_eval = [], []\n",
    "for i in indexes:\n",
    "    answers.append(result[i]['answers'])\n",
    "    condense_resp.append(result[i]['condensed']['response'])\n",
    "    casual_resp.append(result[i]['casual']['response'])\n",
    "    condense_eval.append(accuracies['condensed'][i])\n",
    "    casual_eval.append(accuracies['casual'][i])\n",
    "\n",
    "df = pd.DataFrame({\n",
    "    'index': indexes,\n",
    "    'answer': answers,\n",
    "    'condensed_response': condense_resp,\n",
    "    'casual_response': casual_resp,\n",
    "    'condensed_accuracy': condense_eval,\n",
    "    'casual_accuracy': casual_eval\n",
    "})\n",
    "\n",
    "print('Condense Accuracy', np.mean(accuracies['condensed']))\n",
    "print('Casual Accuracy', np.mean(accuracies['casual'])))\n",
    "pd.options.display.max_colwidth = 100\n",
    "df"
   ]
  },
  {
   "cell_type": "code",
   "execution_count": null,
   "metadata": {},
   "outputs": [],
   "source": []
  }
 ],
 "metadata": {
  "kernelspec": {
   "display_name": "env",
   "language": "python",
   "name": "python3"
  },
  "language_info": {
   "codemirror_mode": {
    "name": "ipython",
    "version": 3
   },
   "file_extension": ".py",
   "mimetype": "text/x-python",
   "name": "python",
   "nbconvert_exporter": "python",
   "pygments_lexer": "ipython3",
   "version": "3.10.12"
  }
 },
 "nbformat": 4,
 "nbformat_minor": 2
}
