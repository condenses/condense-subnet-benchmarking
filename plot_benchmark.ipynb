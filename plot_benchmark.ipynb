{
 "cells": [
  {
   "cell_type": "code",
   "execution_count": 1,
   "metadata": {},
   "outputs": [
    {
     "name": "stdout",
     "output_type": "stream",
     "text": [
      "\u001b[33mWARNING: Running pip as the 'root' user can result in broken permissions and conflicting behaviour with the system package manager, possibly rendering your system unusable.It is recommended to use a virtual environment instead: https://pip.pypa.io/warnings/venv. Use the --root-user-action option if you know what you are doing and want to suppress this warning.\u001b[0m\u001b[33m\n",
      "\u001b[0m"
     ]
    }
   ],
   "source": [
    "!pip install plotly kaleido nbformat>=4.2.0"
   ]
  },
  {
   "cell_type": "code",
   "execution_count": 19,
   "metadata": {},
   "outputs": [],
   "source": [
    "def plot_condense_time_series(\n",
    "    date_data: dict,\n",
    "    dashed_lines: list[dict],\n",
    "    title: str,\n",
    "    shortname_description: dict,\n",
    "):\n",
    "    import plotly.graph_objects as go\n",
    "    from datetime import datetime, timedelta\n",
    "\n",
    "    # Define size mapping function\n",
    "    def get_marker_size(tokens):\n",
    "        if tokens < 1024:\n",
    "            return 8  # small\n",
    "        elif tokens <= 4096:\n",
    "            return 15  # medium\n",
    "        else:\n",
    "            return 25  # large\n",
    "\n",
    "    fig = go.Figure()\n",
    "\n",
    "    # Get all dates\n",
    "    dates = list(date_data.keys())\n",
    "    date_objects = [datetime.strptime(d, \"%Y-%m-%d\") for d in dates]\n",
    "    \n",
    "    # Calculate x-axis range with padding\n",
    "    if len(dates) == 1:\n",
    "        x_min = (date_objects[0] - timedelta(days=5)).strftime(\"%Y-%m-%d\")\n",
    "        x_max = (date_objects[0] + timedelta(days=5)).strftime(\"%Y-%m-%d\")\n",
    "    else:\n",
    "        x_min = min(date_objects).strftime(\"%Y-%m-%d\")\n",
    "        x_max = max(date_objects).strftime(\"%Y-%m-%d\")\n",
    "\n",
    "    # Add dashed lines dynamically\n",
    "    for line in dashed_lines:\n",
    "        value = line.get(\"value\")\n",
    "        label = line.get(\"label\", \"\") + f\" - {value:.1%}\"\n",
    "        color = line.get(\"color\", \"#EF553B\")\n",
    "\n",
    "        fig.add_trace(\n",
    "            go.Scatter(\n",
    "                x=[x_min, x_max],\n",
    "                y=[value, value],\n",
    "                mode=\"lines+text\",\n",
    "                name=label,\n",
    "                line=dict(color=color, width=2, dash=\"dash\"),\n",
    "                text=[label],  # Add label at the end of line\n",
    "                textposition=\"top right\",\n",
    "                textfont=dict(color=color),\n",
    "            )\n",
    "        )\n",
    "\n",
    "    # Add scatter plot for each sampling method\n",
    "    for sampling_method in date_data[dates[0]].keys():\n",
    "        dates_list = []\n",
    "        accuracies = []\n",
    "        token_means = []\n",
    "        token_stds = []\n",
    "        descriptions = []\n",
    "        \n",
    "        for date in dates:\n",
    "            data = date_data[date][sampling_method]\n",
    "            dates_list.append(date)\n",
    "            accuracies.append(data[\"accuracy\"])\n",
    "            token_means.append(data[\"it\"][\"mean\"])\n",
    "            token_stds.append(data[\"it\"][\"std\"])\n",
    "            descriptions.append(f\"{sampling_method} - IT-{data['it']['mean']:,}+/-{data['it']['std']} - {data['accuracy']:.1%}\")\n",
    "\n",
    "        marker_sizes = [get_marker_size(tokens) for tokens in token_means]\n",
    "        \n",
    "        # Replace shortnames with full descriptions\n",
    "        display_name = sampling_method\n",
    "        for short, full in shortname_description.items():\n",
    "            display_name = display_name.replace(short, full)\n",
    "            \n",
    "        fig.add_trace(\n",
    "            go.Scatter(\n",
    "                x=dates_list,\n",
    "                y=accuracies,\n",
    "                mode=\"lines+markers+text\",\n",
    "                name=display_name,\n",
    "                line=dict(color=\"#636EFA\", width=2),\n",
    "                marker=dict(\n",
    "                    size=marker_sizes,\n",
    "                    color=\"#636EFA\",\n",
    "                    symbol=\"circle\",\n",
    "                    line=dict(color=\"white\", width=2),\n",
    "                ),\n",
    "                text=descriptions,\n",
    "                textposition=\"top center\",\n",
    "                textfont=dict(color=\"#636EFA\"),\n",
    "            )\n",
    "        )\n",
    "\n",
    "    # Add shortname descriptions as annotations\n",
    "    y_pos = 0.02  # Starting y position for annotations\n",
    "    for short, full in shortname_description.items():\n",
    "        fig.add_annotation(\n",
    "            xref=\"paper\",\n",
    "            yref=\"paper\",\n",
    "            x=1.02,  # Position to the right of the plot\n",
    "            y=y_pos,\n",
    "            text=f\"{short}: {full}\",\n",
    "            showarrow=False,\n",
    "            font=dict(size=12),\n",
    "            align=\"left\"\n",
    "        )\n",
    "        y_pos += 0.05  # Increment y position for next annotation\n",
    "\n",
    "    # Update layout\n",
    "    fig.update_layout(\n",
    "        title={\n",
    "            \"text\": title,\n",
    "            \"y\": 0.95,\n",
    "            \"x\": 0.5,\n",
    "            \"xanchor\": \"center\",\n",
    "            \"yanchor\": \"top\",\n",
    "            \"font\": dict(size=20),\n",
    "        },\n",
    "        template=\"plotly_white\",\n",
    "        hovermode=False,  # Disable hover interactions\n",
    "        height=600,\n",
    "        width=1200,\n",
    "        showlegend=True,\n",
    "        legend=dict(yanchor=\"top\", y=0.99, xanchor=\"right\", x=0.99, tracegroupgap=5),\n",
    "        yaxis=dict(\n",
    "            title=\"Accuracy\",\n",
    "            tickformat=\".0%\",\n",
    "            range=[0, 1],  # Fixed range from 0 to 100%\n",
    "        ),\n",
    "        xaxis=dict(title=\"Date\"),\n",
    "        margin=dict(r=150)  # Add right margin for annotations\n",
    "    )\n",
    "\n",
    "    # Save the plot\n",
    "    fig.write_html(f\"results/{title}.html\")\n",
    "    fig.write_image(f\"results/{title}.png\")\n",
    "    return fig\n"
   ]
  },
  {
   "cell_type": "code",
   "execution_count": 20,
   "metadata": {},
   "outputs": [
    {
     "data": {
      "application/vnd.plotly.v1+json": {
       "config": {
        "plotlyServerURL": "https://plot.ly"
       },
       "data": [
        {
         "line": {
          "color": "#EF553B",
          "dash": "dash",
          "width": 2
         },
         "mode": "lines+text",
         "name": "Original - IT-3,361 - 93.0%",
         "text": [
          "Original - IT-3,361 - 93.0%"
         ],
         "textfont": {
          "color": "#EF553B"
         },
         "textposition": "top right",
         "type": "scatter",
         "x": [
          "2024-11-29",
          "2024-12-09"
         ],
         "y": [
          0.93,
          0.93
         ]
        },
        {
         "line": {
          "color": "#00CC96",
          "dash": "dash",
          "width": 2
         },
         "mode": "lines+text",
         "name": "Knorm (kvpress) - CR-0.72 - 29.0%",
         "text": [
          "Knorm (kvpress) - CR-0.72 - 29.0%"
         ],
         "textfont": {
          "color": "#00CC96"
         },
         "textposition": "top right",
         "type": "scatter",
         "x": [
          "2024-11-29",
          "2024-12-09"
         ],
         "y": [
          0.29,
          0.29
         ]
        },
        {
         "line": {
          "color": "#FF97D9",
          "dash": "dash",
          "width": 2
         },
         "mode": "lines+text",
         "name": "ExpectedAttentionPress (kvpress) - CR-0.72 - 70.0%",
         "text": [
          "ExpectedAttentionPress (kvpress) - CR-0.72 - 70.0%"
         ],
         "textfont": {
          "color": "#FF97D9"
         },
         "textposition": "top right",
         "type": "scatter",
         "x": [
          "2024-11-29",
          "2024-12-09"
         ],
         "y": [
          0.7,
          0.7
         ]
        },
        {
         "line": {
          "color": "#636EFA",
          "width": 2
         },
         "marker": {
          "color": "#636EFA",
          "line": {
           "color": "white",
           "width": 2
          },
          "size": [
           8
          ],
          "symbol": "circle"
         },
         "mode": "lines+markers+text",
         "name": "top-1",
         "text": [
          "top-1 - IT-963+/-156 - 73.0%"
         ],
         "textfont": {
          "color": "#636EFA"
         },
         "textposition": "top center",
         "type": "scatter",
         "x": [
          "2024-12-04"
         ],
         "y": [
          0.73
         ]
        },
        {
         "line": {
          "color": "#636EFA",
          "width": 2
         },
         "marker": {
          "color": "#636EFA",
          "line": {
           "color": "white",
           "width": 2
          },
          "size": [
           8
          ],
          "symbol": "circle"
         },
         "mode": "lines+markers+text",
         "name": "top-5",
         "text": [
          "top-5 - IT-958+/-148 - 59.0%"
         ],
         "textfont": {
          "color": "#636EFA"
         },
         "textposition": "top center",
         "type": "scatter",
         "x": [
          "2024-12-04"
         ],
         "y": [
          0.59
         ]
        }
       ],
       "layout": {
        "annotations": [
         {
          "align": "left",
          "font": {
           "size": 12
          },
          "showarrow": false,
          "text": "IT: Input Token",
          "x": 1.02,
          "xref": "paper",
          "y": 0.02,
          "yref": "paper"
         },
         {
          "align": "left",
          "font": {
           "size": 12
          },
          "showarrow": false,
          "text": "CR: Compression Rate",
          "x": 1.02,
          "xref": "paper",
          "y": 0.07,
          "yref": "paper"
         },
         {
          "align": "left",
          "font": {
           "size": 12
          },
          "showarrow": false,
          "text": "top-x: Top-x Elo Sampling",
          "x": 1.02,
          "xref": "paper",
          "y": 0.12000000000000001,
          "yref": "paper"
         }
        ],
        "height": 600,
        "hovermode": false,
        "legend": {
         "tracegroupgap": 5,
         "x": 0.99,
         "xanchor": "right",
         "y": 0.99,
         "yanchor": "top"
        },
        "margin": {
         "r": 150
        },
        "showlegend": true,
        "template": {
         "data": {
          "bar": [
           {
            "error_x": {
             "color": "#2a3f5f"
            },
            "error_y": {
             "color": "#2a3f5f"
            },
            "marker": {
             "line": {
              "color": "white",
              "width": 0.5
             },
             "pattern": {
              "fillmode": "overlay",
              "size": 10,
              "solidity": 0.2
             }
            },
            "type": "bar"
           }
          ],
          "barpolar": [
           {
            "marker": {
             "line": {
              "color": "white",
              "width": 0.5
             },
             "pattern": {
              "fillmode": "overlay",
              "size": 10,
              "solidity": 0.2
             }
            },
            "type": "barpolar"
           }
          ],
          "carpet": [
           {
            "aaxis": {
             "endlinecolor": "#2a3f5f",
             "gridcolor": "#C8D4E3",
             "linecolor": "#C8D4E3",
             "minorgridcolor": "#C8D4E3",
             "startlinecolor": "#2a3f5f"
            },
            "baxis": {
             "endlinecolor": "#2a3f5f",
             "gridcolor": "#C8D4E3",
             "linecolor": "#C8D4E3",
             "minorgridcolor": "#C8D4E3",
             "startlinecolor": "#2a3f5f"
            },
            "type": "carpet"
           }
          ],
          "choropleth": [
           {
            "colorbar": {
             "outlinewidth": 0,
             "ticks": ""
            },
            "type": "choropleth"
           }
          ],
          "contour": [
           {
            "colorbar": {
             "outlinewidth": 0,
             "ticks": ""
            },
            "colorscale": [
             [
              0,
              "#0d0887"
             ],
             [
              0.1111111111111111,
              "#46039f"
             ],
             [
              0.2222222222222222,
              "#7201a8"
             ],
             [
              0.3333333333333333,
              "#9c179e"
             ],
             [
              0.4444444444444444,
              "#bd3786"
             ],
             [
              0.5555555555555556,
              "#d8576b"
             ],
             [
              0.6666666666666666,
              "#ed7953"
             ],
             [
              0.7777777777777778,
              "#fb9f3a"
             ],
             [
              0.8888888888888888,
              "#fdca26"
             ],
             [
              1,
              "#f0f921"
             ]
            ],
            "type": "contour"
           }
          ],
          "contourcarpet": [
           {
            "colorbar": {
             "outlinewidth": 0,
             "ticks": ""
            },
            "type": "contourcarpet"
           }
          ],
          "heatmap": [
           {
            "colorbar": {
             "outlinewidth": 0,
             "ticks": ""
            },
            "colorscale": [
             [
              0,
              "#0d0887"
             ],
             [
              0.1111111111111111,
              "#46039f"
             ],
             [
              0.2222222222222222,
              "#7201a8"
             ],
             [
              0.3333333333333333,
              "#9c179e"
             ],
             [
              0.4444444444444444,
              "#bd3786"
             ],
             [
              0.5555555555555556,
              "#d8576b"
             ],
             [
              0.6666666666666666,
              "#ed7953"
             ],
             [
              0.7777777777777778,
              "#fb9f3a"
             ],
             [
              0.8888888888888888,
              "#fdca26"
             ],
             [
              1,
              "#f0f921"
             ]
            ],
            "type": "heatmap"
           }
          ],
          "heatmapgl": [
           {
            "colorbar": {
             "outlinewidth": 0,
             "ticks": ""
            },
            "colorscale": [
             [
              0,
              "#0d0887"
             ],
             [
              0.1111111111111111,
              "#46039f"
             ],
             [
              0.2222222222222222,
              "#7201a8"
             ],
             [
              0.3333333333333333,
              "#9c179e"
             ],
             [
              0.4444444444444444,
              "#bd3786"
             ],
             [
              0.5555555555555556,
              "#d8576b"
             ],
             [
              0.6666666666666666,
              "#ed7953"
             ],
             [
              0.7777777777777778,
              "#fb9f3a"
             ],
             [
              0.8888888888888888,
              "#fdca26"
             ],
             [
              1,
              "#f0f921"
             ]
            ],
            "type": "heatmapgl"
           }
          ],
          "histogram": [
           {
            "marker": {
             "pattern": {
              "fillmode": "overlay",
              "size": 10,
              "solidity": 0.2
             }
            },
            "type": "histogram"
           }
          ],
          "histogram2d": [
           {
            "colorbar": {
             "outlinewidth": 0,
             "ticks": ""
            },
            "colorscale": [
             [
              0,
              "#0d0887"
             ],
             [
              0.1111111111111111,
              "#46039f"
             ],
             [
              0.2222222222222222,
              "#7201a8"
             ],
             [
              0.3333333333333333,
              "#9c179e"
             ],
             [
              0.4444444444444444,
              "#bd3786"
             ],
             [
              0.5555555555555556,
              "#d8576b"
             ],
             [
              0.6666666666666666,
              "#ed7953"
             ],
             [
              0.7777777777777778,
              "#fb9f3a"
             ],
             [
              0.8888888888888888,
              "#fdca26"
             ],
             [
              1,
              "#f0f921"
             ]
            ],
            "type": "histogram2d"
           }
          ],
          "histogram2dcontour": [
           {
            "colorbar": {
             "outlinewidth": 0,
             "ticks": ""
            },
            "colorscale": [
             [
              0,
              "#0d0887"
             ],
             [
              0.1111111111111111,
              "#46039f"
             ],
             [
              0.2222222222222222,
              "#7201a8"
             ],
             [
              0.3333333333333333,
              "#9c179e"
             ],
             [
              0.4444444444444444,
              "#bd3786"
             ],
             [
              0.5555555555555556,
              "#d8576b"
             ],
             [
              0.6666666666666666,
              "#ed7953"
             ],
             [
              0.7777777777777778,
              "#fb9f3a"
             ],
             [
              0.8888888888888888,
              "#fdca26"
             ],
             [
              1,
              "#f0f921"
             ]
            ],
            "type": "histogram2dcontour"
           }
          ],
          "mesh3d": [
           {
            "colorbar": {
             "outlinewidth": 0,
             "ticks": ""
            },
            "type": "mesh3d"
           }
          ],
          "parcoords": [
           {
            "line": {
             "colorbar": {
              "outlinewidth": 0,
              "ticks": ""
             }
            },
            "type": "parcoords"
           }
          ],
          "pie": [
           {
            "automargin": true,
            "type": "pie"
           }
          ],
          "scatter": [
           {
            "fillpattern": {
             "fillmode": "overlay",
             "size": 10,
             "solidity": 0.2
            },
            "type": "scatter"
           }
          ],
          "scatter3d": [
           {
            "line": {
             "colorbar": {
              "outlinewidth": 0,
              "ticks": ""
             }
            },
            "marker": {
             "colorbar": {
              "outlinewidth": 0,
              "ticks": ""
             }
            },
            "type": "scatter3d"
           }
          ],
          "scattercarpet": [
           {
            "marker": {
             "colorbar": {
              "outlinewidth": 0,
              "ticks": ""
             }
            },
            "type": "scattercarpet"
           }
          ],
          "scattergeo": [
           {
            "marker": {
             "colorbar": {
              "outlinewidth": 0,
              "ticks": ""
             }
            },
            "type": "scattergeo"
           }
          ],
          "scattergl": [
           {
            "marker": {
             "colorbar": {
              "outlinewidth": 0,
              "ticks": ""
             }
            },
            "type": "scattergl"
           }
          ],
          "scattermapbox": [
           {
            "marker": {
             "colorbar": {
              "outlinewidth": 0,
              "ticks": ""
             }
            },
            "type": "scattermapbox"
           }
          ],
          "scatterpolar": [
           {
            "marker": {
             "colorbar": {
              "outlinewidth": 0,
              "ticks": ""
             }
            },
            "type": "scatterpolar"
           }
          ],
          "scatterpolargl": [
           {
            "marker": {
             "colorbar": {
              "outlinewidth": 0,
              "ticks": ""
             }
            },
            "type": "scatterpolargl"
           }
          ],
          "scatterternary": [
           {
            "marker": {
             "colorbar": {
              "outlinewidth": 0,
              "ticks": ""
             }
            },
            "type": "scatterternary"
           }
          ],
          "surface": [
           {
            "colorbar": {
             "outlinewidth": 0,
             "ticks": ""
            },
            "colorscale": [
             [
              0,
              "#0d0887"
             ],
             [
              0.1111111111111111,
              "#46039f"
             ],
             [
              0.2222222222222222,
              "#7201a8"
             ],
             [
              0.3333333333333333,
              "#9c179e"
             ],
             [
              0.4444444444444444,
              "#bd3786"
             ],
             [
              0.5555555555555556,
              "#d8576b"
             ],
             [
              0.6666666666666666,
              "#ed7953"
             ],
             [
              0.7777777777777778,
              "#fb9f3a"
             ],
             [
              0.8888888888888888,
              "#fdca26"
             ],
             [
              1,
              "#f0f921"
             ]
            ],
            "type": "surface"
           }
          ],
          "table": [
           {
            "cells": {
             "fill": {
              "color": "#EBF0F8"
             },
             "line": {
              "color": "white"
             }
            },
            "header": {
             "fill": {
              "color": "#C8D4E3"
             },
             "line": {
              "color": "white"
             }
            },
            "type": "table"
           }
          ]
         },
         "layout": {
          "annotationdefaults": {
           "arrowcolor": "#2a3f5f",
           "arrowhead": 0,
           "arrowwidth": 1
          },
          "autotypenumbers": "strict",
          "coloraxis": {
           "colorbar": {
            "outlinewidth": 0,
            "ticks": ""
           }
          },
          "colorscale": {
           "diverging": [
            [
             0,
             "#8e0152"
            ],
            [
             0.1,
             "#c51b7d"
            ],
            [
             0.2,
             "#de77ae"
            ],
            [
             0.3,
             "#f1b6da"
            ],
            [
             0.4,
             "#fde0ef"
            ],
            [
             0.5,
             "#f7f7f7"
            ],
            [
             0.6,
             "#e6f5d0"
            ],
            [
             0.7,
             "#b8e186"
            ],
            [
             0.8,
             "#7fbc41"
            ],
            [
             0.9,
             "#4d9221"
            ],
            [
             1,
             "#276419"
            ]
           ],
           "sequential": [
            [
             0,
             "#0d0887"
            ],
            [
             0.1111111111111111,
             "#46039f"
            ],
            [
             0.2222222222222222,
             "#7201a8"
            ],
            [
             0.3333333333333333,
             "#9c179e"
            ],
            [
             0.4444444444444444,
             "#bd3786"
            ],
            [
             0.5555555555555556,
             "#d8576b"
            ],
            [
             0.6666666666666666,
             "#ed7953"
            ],
            [
             0.7777777777777778,
             "#fb9f3a"
            ],
            [
             0.8888888888888888,
             "#fdca26"
            ],
            [
             1,
             "#f0f921"
            ]
           ],
           "sequentialminus": [
            [
             0,
             "#0d0887"
            ],
            [
             0.1111111111111111,
             "#46039f"
            ],
            [
             0.2222222222222222,
             "#7201a8"
            ],
            [
             0.3333333333333333,
             "#9c179e"
            ],
            [
             0.4444444444444444,
             "#bd3786"
            ],
            [
             0.5555555555555556,
             "#d8576b"
            ],
            [
             0.6666666666666666,
             "#ed7953"
            ],
            [
             0.7777777777777778,
             "#fb9f3a"
            ],
            [
             0.8888888888888888,
             "#fdca26"
            ],
            [
             1,
             "#f0f921"
            ]
           ]
          },
          "colorway": [
           "#636efa",
           "#EF553B",
           "#00cc96",
           "#ab63fa",
           "#FFA15A",
           "#19d3f3",
           "#FF6692",
           "#B6E880",
           "#FF97FF",
           "#FECB52"
          ],
          "font": {
           "color": "#2a3f5f"
          },
          "geo": {
           "bgcolor": "white",
           "lakecolor": "white",
           "landcolor": "white",
           "showlakes": true,
           "showland": true,
           "subunitcolor": "#C8D4E3"
          },
          "hoverlabel": {
           "align": "left"
          },
          "hovermode": "closest",
          "mapbox": {
           "style": "light"
          },
          "paper_bgcolor": "white",
          "plot_bgcolor": "white",
          "polar": {
           "angularaxis": {
            "gridcolor": "#EBF0F8",
            "linecolor": "#EBF0F8",
            "ticks": ""
           },
           "bgcolor": "white",
           "radialaxis": {
            "gridcolor": "#EBF0F8",
            "linecolor": "#EBF0F8",
            "ticks": ""
           }
          },
          "scene": {
           "xaxis": {
            "backgroundcolor": "white",
            "gridcolor": "#DFE8F3",
            "gridwidth": 2,
            "linecolor": "#EBF0F8",
            "showbackground": true,
            "ticks": "",
            "zerolinecolor": "#EBF0F8"
           },
           "yaxis": {
            "backgroundcolor": "white",
            "gridcolor": "#DFE8F3",
            "gridwidth": 2,
            "linecolor": "#EBF0F8",
            "showbackground": true,
            "ticks": "",
            "zerolinecolor": "#EBF0F8"
           },
           "zaxis": {
            "backgroundcolor": "white",
            "gridcolor": "#DFE8F3",
            "gridwidth": 2,
            "linecolor": "#EBF0F8",
            "showbackground": true,
            "ticks": "",
            "zerolinecolor": "#EBF0F8"
           }
          },
          "shapedefaults": {
           "line": {
            "color": "#2a3f5f"
           }
          },
          "ternary": {
           "aaxis": {
            "gridcolor": "#DFE8F3",
            "linecolor": "#A2B1C6",
            "ticks": ""
           },
           "baxis": {
            "gridcolor": "#DFE8F3",
            "linecolor": "#A2B1C6",
            "ticks": ""
           },
           "bgcolor": "white",
           "caxis": {
            "gridcolor": "#DFE8F3",
            "linecolor": "#A2B1C6",
            "ticks": ""
           }
          },
          "title": {
           "x": 0.05
          },
          "xaxis": {
           "automargin": true,
           "gridcolor": "#EBF0F8",
           "linecolor": "#EBF0F8",
           "ticks": "",
           "title": {
            "standoff": 15
           },
           "zerolinecolor": "#EBF0F8",
           "zerolinewidth": 2
          },
          "yaxis": {
           "automargin": true,
           "gridcolor": "#EBF0F8",
           "linecolor": "#EBF0F8",
           "ticks": "",
           "title": {
            "standoff": 15
           },
           "zerolinecolor": "#EBF0F8",
           "zerolinewidth": 2
          }
         }
        },
        "title": {
         "font": {
          "size": 20
         },
         "text": "Condense Subnet Benchmark: RULER-4K-qa",
         "x": 0.5,
         "xanchor": "center",
         "y": 0.95,
         "yanchor": "top"
        },
        "width": 1200,
        "xaxis": {
         "title": {
          "text": "Date"
         }
        },
        "yaxis": {
         "range": [
          0,
          1
         ],
         "tickformat": ".0%",
         "title": {
          "text": "Accuracy"
         }
        }
       }
      },
      "text/html": [
       "<div>                            <div id=\"5aba05b3-9858-49b7-9c05-9e2570355662\" class=\"plotly-graph-div\" style=\"height:600px; width:1200px;\"></div>            <script type=\"text/javascript\">                require([\"plotly\"], function(Plotly) {                    window.PLOTLYENV=window.PLOTLYENV || {};                                    if (document.getElementById(\"5aba05b3-9858-49b7-9c05-9e2570355662\")) {                    Plotly.newPlot(                        \"5aba05b3-9858-49b7-9c05-9e2570355662\",                        [{\"line\":{\"color\":\"#EF553B\",\"dash\":\"dash\",\"width\":2},\"mode\":\"lines+text\",\"name\":\"Original - IT-3,361 - 93.0%\",\"text\":[\"Original - IT-3,361 - 93.0%\"],\"textfont\":{\"color\":\"#EF553B\"},\"textposition\":\"top right\",\"x\":[\"2024-11-29\",\"2024-12-09\"],\"y\":[0.93,0.93],\"type\":\"scatter\"},{\"line\":{\"color\":\"#00CC96\",\"dash\":\"dash\",\"width\":2},\"mode\":\"lines+text\",\"name\":\"Knorm (kvpress) - CR-0.72 - 29.0%\",\"text\":[\"Knorm (kvpress) - CR-0.72 - 29.0%\"],\"textfont\":{\"color\":\"#00CC96\"},\"textposition\":\"top right\",\"x\":[\"2024-11-29\",\"2024-12-09\"],\"y\":[0.29,0.29],\"type\":\"scatter\"},{\"line\":{\"color\":\"#FF97D9\",\"dash\":\"dash\",\"width\":2},\"mode\":\"lines+text\",\"name\":\"ExpectedAttentionPress (kvpress) - CR-0.72 - 70.0%\",\"text\":[\"ExpectedAttentionPress (kvpress) - CR-0.72 - 70.0%\"],\"textfont\":{\"color\":\"#FF97D9\"},\"textposition\":\"top right\",\"x\":[\"2024-11-29\",\"2024-12-09\"],\"y\":[0.7,0.7],\"type\":\"scatter\"},{\"line\":{\"color\":\"#636EFA\",\"width\":2},\"marker\":{\"color\":\"#636EFA\",\"line\":{\"color\":\"white\",\"width\":2},\"size\":[8],\"symbol\":\"circle\"},\"mode\":\"lines+markers+text\",\"name\":\"top-1\",\"text\":[\"top-1 - IT-963+\\u002f-156 - 73.0%\"],\"textfont\":{\"color\":\"#636EFA\"},\"textposition\":\"top center\",\"x\":[\"2024-12-04\"],\"y\":[0.73],\"type\":\"scatter\"},{\"line\":{\"color\":\"#636EFA\",\"width\":2},\"marker\":{\"color\":\"#636EFA\",\"line\":{\"color\":\"white\",\"width\":2},\"size\":[8],\"symbol\":\"circle\"},\"mode\":\"lines+markers+text\",\"name\":\"top-5\",\"text\":[\"top-5 - IT-958+\\u002f-148 - 59.0%\"],\"textfont\":{\"color\":\"#636EFA\"},\"textposition\":\"top center\",\"x\":[\"2024-12-04\"],\"y\":[0.59],\"type\":\"scatter\"}],                        {\"template\":{\"data\":{\"barpolar\":[{\"marker\":{\"line\":{\"color\":\"white\",\"width\":0.5},\"pattern\":{\"fillmode\":\"overlay\",\"size\":10,\"solidity\":0.2}},\"type\":\"barpolar\"}],\"bar\":[{\"error_x\":{\"color\":\"#2a3f5f\"},\"error_y\":{\"color\":\"#2a3f5f\"},\"marker\":{\"line\":{\"color\":\"white\",\"width\":0.5},\"pattern\":{\"fillmode\":\"overlay\",\"size\":10,\"solidity\":0.2}},\"type\":\"bar\"}],\"carpet\":[{\"aaxis\":{\"endlinecolor\":\"#2a3f5f\",\"gridcolor\":\"#C8D4E3\",\"linecolor\":\"#C8D4E3\",\"minorgridcolor\":\"#C8D4E3\",\"startlinecolor\":\"#2a3f5f\"},\"baxis\":{\"endlinecolor\":\"#2a3f5f\",\"gridcolor\":\"#C8D4E3\",\"linecolor\":\"#C8D4E3\",\"minorgridcolor\":\"#C8D4E3\",\"startlinecolor\":\"#2a3f5f\"},\"type\":\"carpet\"}],\"choropleth\":[{\"colorbar\":{\"outlinewidth\":0,\"ticks\":\"\"},\"type\":\"choropleth\"}],\"contourcarpet\":[{\"colorbar\":{\"outlinewidth\":0,\"ticks\":\"\"},\"type\":\"contourcarpet\"}],\"contour\":[{\"colorbar\":{\"outlinewidth\":0,\"ticks\":\"\"},\"colorscale\":[[0.0,\"#0d0887\"],[0.1111111111111111,\"#46039f\"],[0.2222222222222222,\"#7201a8\"],[0.3333333333333333,\"#9c179e\"],[0.4444444444444444,\"#bd3786\"],[0.5555555555555556,\"#d8576b\"],[0.6666666666666666,\"#ed7953\"],[0.7777777777777778,\"#fb9f3a\"],[0.8888888888888888,\"#fdca26\"],[1.0,\"#f0f921\"]],\"type\":\"contour\"}],\"heatmapgl\":[{\"colorbar\":{\"outlinewidth\":0,\"ticks\":\"\"},\"colorscale\":[[0.0,\"#0d0887\"],[0.1111111111111111,\"#46039f\"],[0.2222222222222222,\"#7201a8\"],[0.3333333333333333,\"#9c179e\"],[0.4444444444444444,\"#bd3786\"],[0.5555555555555556,\"#d8576b\"],[0.6666666666666666,\"#ed7953\"],[0.7777777777777778,\"#fb9f3a\"],[0.8888888888888888,\"#fdca26\"],[1.0,\"#f0f921\"]],\"type\":\"heatmapgl\"}],\"heatmap\":[{\"colorbar\":{\"outlinewidth\":0,\"ticks\":\"\"},\"colorscale\":[[0.0,\"#0d0887\"],[0.1111111111111111,\"#46039f\"],[0.2222222222222222,\"#7201a8\"],[0.3333333333333333,\"#9c179e\"],[0.4444444444444444,\"#bd3786\"],[0.5555555555555556,\"#d8576b\"],[0.6666666666666666,\"#ed7953\"],[0.7777777777777778,\"#fb9f3a\"],[0.8888888888888888,\"#fdca26\"],[1.0,\"#f0f921\"]],\"type\":\"heatmap\"}],\"histogram2dcontour\":[{\"colorbar\":{\"outlinewidth\":0,\"ticks\":\"\"},\"colorscale\":[[0.0,\"#0d0887\"],[0.1111111111111111,\"#46039f\"],[0.2222222222222222,\"#7201a8\"],[0.3333333333333333,\"#9c179e\"],[0.4444444444444444,\"#bd3786\"],[0.5555555555555556,\"#d8576b\"],[0.6666666666666666,\"#ed7953\"],[0.7777777777777778,\"#fb9f3a\"],[0.8888888888888888,\"#fdca26\"],[1.0,\"#f0f921\"]],\"type\":\"histogram2dcontour\"}],\"histogram2d\":[{\"colorbar\":{\"outlinewidth\":0,\"ticks\":\"\"},\"colorscale\":[[0.0,\"#0d0887\"],[0.1111111111111111,\"#46039f\"],[0.2222222222222222,\"#7201a8\"],[0.3333333333333333,\"#9c179e\"],[0.4444444444444444,\"#bd3786\"],[0.5555555555555556,\"#d8576b\"],[0.6666666666666666,\"#ed7953\"],[0.7777777777777778,\"#fb9f3a\"],[0.8888888888888888,\"#fdca26\"],[1.0,\"#f0f921\"]],\"type\":\"histogram2d\"}],\"histogram\":[{\"marker\":{\"pattern\":{\"fillmode\":\"overlay\",\"size\":10,\"solidity\":0.2}},\"type\":\"histogram\"}],\"mesh3d\":[{\"colorbar\":{\"outlinewidth\":0,\"ticks\":\"\"},\"type\":\"mesh3d\"}],\"parcoords\":[{\"line\":{\"colorbar\":{\"outlinewidth\":0,\"ticks\":\"\"}},\"type\":\"parcoords\"}],\"pie\":[{\"automargin\":true,\"type\":\"pie\"}],\"scatter3d\":[{\"line\":{\"colorbar\":{\"outlinewidth\":0,\"ticks\":\"\"}},\"marker\":{\"colorbar\":{\"outlinewidth\":0,\"ticks\":\"\"}},\"type\":\"scatter3d\"}],\"scattercarpet\":[{\"marker\":{\"colorbar\":{\"outlinewidth\":0,\"ticks\":\"\"}},\"type\":\"scattercarpet\"}],\"scattergeo\":[{\"marker\":{\"colorbar\":{\"outlinewidth\":0,\"ticks\":\"\"}},\"type\":\"scattergeo\"}],\"scattergl\":[{\"marker\":{\"colorbar\":{\"outlinewidth\":0,\"ticks\":\"\"}},\"type\":\"scattergl\"}],\"scattermapbox\":[{\"marker\":{\"colorbar\":{\"outlinewidth\":0,\"ticks\":\"\"}},\"type\":\"scattermapbox\"}],\"scatterpolargl\":[{\"marker\":{\"colorbar\":{\"outlinewidth\":0,\"ticks\":\"\"}},\"type\":\"scatterpolargl\"}],\"scatterpolar\":[{\"marker\":{\"colorbar\":{\"outlinewidth\":0,\"ticks\":\"\"}},\"type\":\"scatterpolar\"}],\"scatter\":[{\"fillpattern\":{\"fillmode\":\"overlay\",\"size\":10,\"solidity\":0.2},\"type\":\"scatter\"}],\"scatterternary\":[{\"marker\":{\"colorbar\":{\"outlinewidth\":0,\"ticks\":\"\"}},\"type\":\"scatterternary\"}],\"surface\":[{\"colorbar\":{\"outlinewidth\":0,\"ticks\":\"\"},\"colorscale\":[[0.0,\"#0d0887\"],[0.1111111111111111,\"#46039f\"],[0.2222222222222222,\"#7201a8\"],[0.3333333333333333,\"#9c179e\"],[0.4444444444444444,\"#bd3786\"],[0.5555555555555556,\"#d8576b\"],[0.6666666666666666,\"#ed7953\"],[0.7777777777777778,\"#fb9f3a\"],[0.8888888888888888,\"#fdca26\"],[1.0,\"#f0f921\"]],\"type\":\"surface\"}],\"table\":[{\"cells\":{\"fill\":{\"color\":\"#EBF0F8\"},\"line\":{\"color\":\"white\"}},\"header\":{\"fill\":{\"color\":\"#C8D4E3\"},\"line\":{\"color\":\"white\"}},\"type\":\"table\"}]},\"layout\":{\"annotationdefaults\":{\"arrowcolor\":\"#2a3f5f\",\"arrowhead\":0,\"arrowwidth\":1},\"autotypenumbers\":\"strict\",\"coloraxis\":{\"colorbar\":{\"outlinewidth\":0,\"ticks\":\"\"}},\"colorscale\":{\"diverging\":[[0,\"#8e0152\"],[0.1,\"#c51b7d\"],[0.2,\"#de77ae\"],[0.3,\"#f1b6da\"],[0.4,\"#fde0ef\"],[0.5,\"#f7f7f7\"],[0.6,\"#e6f5d0\"],[0.7,\"#b8e186\"],[0.8,\"#7fbc41\"],[0.9,\"#4d9221\"],[1,\"#276419\"]],\"sequential\":[[0.0,\"#0d0887\"],[0.1111111111111111,\"#46039f\"],[0.2222222222222222,\"#7201a8\"],[0.3333333333333333,\"#9c179e\"],[0.4444444444444444,\"#bd3786\"],[0.5555555555555556,\"#d8576b\"],[0.6666666666666666,\"#ed7953\"],[0.7777777777777778,\"#fb9f3a\"],[0.8888888888888888,\"#fdca26\"],[1.0,\"#f0f921\"]],\"sequentialminus\":[[0.0,\"#0d0887\"],[0.1111111111111111,\"#46039f\"],[0.2222222222222222,\"#7201a8\"],[0.3333333333333333,\"#9c179e\"],[0.4444444444444444,\"#bd3786\"],[0.5555555555555556,\"#d8576b\"],[0.6666666666666666,\"#ed7953\"],[0.7777777777777778,\"#fb9f3a\"],[0.8888888888888888,\"#fdca26\"],[1.0,\"#f0f921\"]]},\"colorway\":[\"#636efa\",\"#EF553B\",\"#00cc96\",\"#ab63fa\",\"#FFA15A\",\"#19d3f3\",\"#FF6692\",\"#B6E880\",\"#FF97FF\",\"#FECB52\"],\"font\":{\"color\":\"#2a3f5f\"},\"geo\":{\"bgcolor\":\"white\",\"lakecolor\":\"white\",\"landcolor\":\"white\",\"showlakes\":true,\"showland\":true,\"subunitcolor\":\"#C8D4E3\"},\"hoverlabel\":{\"align\":\"left\"},\"hovermode\":\"closest\",\"mapbox\":{\"style\":\"light\"},\"paper_bgcolor\":\"white\",\"plot_bgcolor\":\"white\",\"polar\":{\"angularaxis\":{\"gridcolor\":\"#EBF0F8\",\"linecolor\":\"#EBF0F8\",\"ticks\":\"\"},\"bgcolor\":\"white\",\"radialaxis\":{\"gridcolor\":\"#EBF0F8\",\"linecolor\":\"#EBF0F8\",\"ticks\":\"\"}},\"scene\":{\"xaxis\":{\"backgroundcolor\":\"white\",\"gridcolor\":\"#DFE8F3\",\"gridwidth\":2,\"linecolor\":\"#EBF0F8\",\"showbackground\":true,\"ticks\":\"\",\"zerolinecolor\":\"#EBF0F8\"},\"yaxis\":{\"backgroundcolor\":\"white\",\"gridcolor\":\"#DFE8F3\",\"gridwidth\":2,\"linecolor\":\"#EBF0F8\",\"showbackground\":true,\"ticks\":\"\",\"zerolinecolor\":\"#EBF0F8\"},\"zaxis\":{\"backgroundcolor\":\"white\",\"gridcolor\":\"#DFE8F3\",\"gridwidth\":2,\"linecolor\":\"#EBF0F8\",\"showbackground\":true,\"ticks\":\"\",\"zerolinecolor\":\"#EBF0F8\"}},\"shapedefaults\":{\"line\":{\"color\":\"#2a3f5f\"}},\"ternary\":{\"aaxis\":{\"gridcolor\":\"#DFE8F3\",\"linecolor\":\"#A2B1C6\",\"ticks\":\"\"},\"baxis\":{\"gridcolor\":\"#DFE8F3\",\"linecolor\":\"#A2B1C6\",\"ticks\":\"\"},\"bgcolor\":\"white\",\"caxis\":{\"gridcolor\":\"#DFE8F3\",\"linecolor\":\"#A2B1C6\",\"ticks\":\"\"}},\"title\":{\"x\":0.05},\"xaxis\":{\"automargin\":true,\"gridcolor\":\"#EBF0F8\",\"linecolor\":\"#EBF0F8\",\"ticks\":\"\",\"title\":{\"standoff\":15},\"zerolinecolor\":\"#EBF0F8\",\"zerolinewidth\":2},\"yaxis\":{\"automargin\":true,\"gridcolor\":\"#EBF0F8\",\"linecolor\":\"#EBF0F8\",\"ticks\":\"\",\"title\":{\"standoff\":15},\"zerolinecolor\":\"#EBF0F8\",\"zerolinewidth\":2}}},\"annotations\":[{\"align\":\"left\",\"font\":{\"size\":12},\"showarrow\":false,\"text\":\"IT: Input Token\",\"x\":1.02,\"xref\":\"paper\",\"y\":0.02,\"yref\":\"paper\"},{\"align\":\"left\",\"font\":{\"size\":12},\"showarrow\":false,\"text\":\"CR: Compression Rate\",\"x\":1.02,\"xref\":\"paper\",\"y\":0.07,\"yref\":\"paper\"},{\"align\":\"left\",\"font\":{\"size\":12},\"showarrow\":false,\"text\":\"top-x: Top-x Elo Sampling\",\"x\":1.02,\"xref\":\"paper\",\"y\":0.12000000000000001,\"yref\":\"paper\"}],\"title\":{\"font\":{\"size\":20},\"text\":\"Condense Subnet Benchmark: RULER-4K-qa\",\"y\":0.95,\"x\":0.5,\"xanchor\":\"center\",\"yanchor\":\"top\"},\"legend\":{\"yanchor\":\"top\",\"y\":0.99,\"xanchor\":\"right\",\"x\":0.99,\"tracegroupgap\":5},\"yaxis\":{\"title\":{\"text\":\"Accuracy\"},\"tickformat\":\".0%\",\"range\":[0,1]},\"margin\":{\"r\":150},\"hovermode\":false,\"height\":600,\"width\":1200,\"showlegend\":true,\"xaxis\":{\"title\":{\"text\":\"Date\"}}},                        {\"responsive\": true}                    ).then(function(){\n",
       "                            \n",
       "var gd = document.getElementById('5aba05b3-9858-49b7-9c05-9e2570355662');\n",
       "var x = new MutationObserver(function (mutations, observer) {{\n",
       "        var display = window.getComputedStyle(gd).display;\n",
       "        if (!display || display === 'none') {{\n",
       "            console.log([gd, 'removed!']);\n",
       "            Plotly.purge(gd);\n",
       "            observer.disconnect();\n",
       "        }}\n",
       "}});\n",
       "\n",
       "// Listen for the removal of the full notebook cells\n",
       "var notebookContainer = gd.closest('#notebook-container');\n",
       "if (notebookContainer) {{\n",
       "    x.observe(notebookContainer, {childList: true});\n",
       "}}\n",
       "\n",
       "// Listen for the clearing of the current output cell\n",
       "var outputEl = gd.closest('.output');\n",
       "if (outputEl) {{\n",
       "    x.observe(outputEl, {childList: true});\n",
       "}}\n",
       "\n",
       "                        })                };                });            </script>        </div>"
      ]
     },
     "metadata": {},
     "output_type": "display_data"
    }
   ],
   "source": [
    "original_token_counts = 3361\n",
    "date_data = {\n",
    "    \"2024-12-04\": {\n",
    "        \"top-1\": {\n",
    "            \"accuracy\": 0.73,\n",
    "            \"it\": {\"mean\": 963, \"std\": 156}, # show on point: top-1 - IT-963+/-156\n",
    "        },\n",
    "        \"top-5\": {\n",
    "            \"accuracy\": 0.59,\n",
    "            \"it\": {\"mean\": 958, \"std\": 148}, # show on point: top-5 - IT-958+/-148\n",
    "        },\n",
    "    },\n",
    "}\n",
    "\n",
    "dashed_lines = [\n",
    "    {\"value\": 0.93, \"label\": f\"Original - IT-{original_token_counts:,}\", \"color\": \"#EF553B\"},\n",
    "    {\"value\": 0.29, \"label\": \"Knorm (kvpress) - CR-0.72\", \"color\": \"#00CC96\"},\n",
    "    {\"value\": 0.70, \"label\": \"ExpectedAttentionPress (kvpress) - CR-0.72\", \"color\": \"#FF97D9\"},\n",
    "]\n",
    "\n",
    "shortname_description = {\n",
    "    \"IT\": \"Input Token\",\n",
    "    \"CR\": \"Compression Rate\",\n",
    "    \"top-x\": \"Top-x Elo Sampling\",\n",
    "}\n",
    "\n",
    "title = \"Condense Subnet Benchmark: RULER-4K-qa\"\n",
    "\n",
    "\n",
    "plot_condense_time_series(\n",
    "    date_data,\n",
    "    dashed_lines,\n",
    "    title,\n",
    "    shortname_description, # Show beside the plot\n",
    ")\n"
   ]
  },
  {
   "cell_type": "code",
   "execution_count": null,
   "metadata": {},
   "outputs": [],
   "source": []
  }
 ],
 "metadata": {
  "kernelspec": {
   "display_name": "base",
   "language": "python",
   "name": "python3"
  },
  "language_info": {
   "codemirror_mode": {
    "name": "ipython",
    "version": 3
   },
   "file_extension": ".py",
   "mimetype": "text/x-python",
   "name": "python",
   "nbconvert_exporter": "python",
   "pygments_lexer": "ipython3",
   "version": "3.12.2"
  }
 },
 "nbformat": 4,
 "nbformat_minor": 2
}
